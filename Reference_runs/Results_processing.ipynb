{
 "cells": [
  {
   "cell_type": "code",
   "execution_count": 19,
   "metadata": {},
   "outputs": [],
   "source": [
    "import numpy as np\n",
    "import pandas as pd\n",
    "import glob\n",
    "import matplotlib.pyplot as plt\n",
    "import re"
   ]
  },
  {
   "cell_type": "code",
   "execution_count": 170,
   "metadata": {},
   "outputs": [],
   "source": [
    "def move_column_inplace(df, col, pos):\n",
    "    col = df.pop(col)\n",
    "    df.insert(pos, col.name, col)\n",
    "    \n",
    "def func(x):\n",
    "    x = x[6:]\n",
    "    return x\n",
    "\n",
    "def process_output(path = ''):\n",
    "    '''Takes in the path to the folder with the data\n",
    "    and returns a dataframe with the benchmark results in the columns \n",
    "    with their corresponding number of nodes and processes per node'''\n",
    "    all_files = glob.glob(path + \"*.log\")\n",
    "\n",
    "    df = pd.read_csv('data_23_32_1.log', index_col=None, sep = ':')\n",
    "    df2 = df.transpose()\n",
    "    df2.reset_index(level=0, inplace=True)\n",
    "    df2 = df2.rename(columns=df2.iloc[0])\n",
    "    df2.drop([0,1], inplace = True)\n",
    "\n",
    "    for filename in all_files:\n",
    "        df = pd.read_csv(filename, index_col=None, sep = ':')\n",
    "        df = df.transpose()\n",
    "        df.reset_index(level=0, inplace=True)\n",
    "        df = df.rename(columns=df.iloc[0])\n",
    "        df.drop([0], inplace = True)\n",
    "        temp = [int(s) for s in re.findall(r'\\d+', filename)]\n",
    "        #df.insert(1, 'Number of nodes', [temp[1]])\n",
    "        #df.insert(2, 'Processes/Node', [temp[2]])\n",
    "        df['Number of nodes'] = int(temp[1])\n",
    "        df['Processes/Node'] = int(temp[2])\n",
    "        df2 = df2.append(df)\n",
    "       \n",
    "    for col in df2.columns:\n",
    "        try:  \n",
    "            df2[col] = df2[col].astype(float)\n",
    "        except:\n",
    "            df2[col] = df2[col].apply(func)\n",
    "    df2['SCALE'] = df2['SCALE'].astype(int) \n",
    "    df2.reset_index(drop=True, inplace=True)\n",
    "    move_column_inplace(df2, 'Number of nodes', 1)\n",
    "    move_column_inplace(df2, 'Processes/Node', 2)\n",
    "    return df2\n",
    "\n",
    "def add_nodxproc(df):\n",
    "    ''' this adds the NodesxProcessors column to a dataframe.\n",
    "    nothing is returned - the passed data frame is changed.\n",
    "    consider it as inplace=True.\n",
    "    '''\n",
    "    #numrows = df.shape[0]\n",
    "    dummy_list = []\n",
    "    #for i in range(numrows):\n",
    "    for (idx,row) in df.iterrows():\n",
    "        #append_val = df['ISO3'].iloc[i] + str(df['Year'].iloc[i])\n",
    "        nodes = str(row['Number of nodes'])\n",
    "        nodes = nodes[:nodes.index('.')]\n",
    "        procs = str(row['Processes/Node'])\n",
    "        procs = procs[:procs.index('.')]\n",
    "        append_val = nodes + procs\n",
    "        dummy_list.append(append_val)\n",
    "    df['NodesxProcessors'] = dummy_list\n",
    "    \n",
    "def make_bar(df, column):\n",
    "    ''' Takes a dataframe containing 'NodesxProcessors' columns as input and\n",
    "    returns a bar plot of the column of choice in the input'''\n",
    "    \n",
    "    d = df.loc[df['NodesxProcessors'] == '3232']\n",
    "    d = d.sort_values(by = 'SCALE', ascending = True) \n",
    "    d = d[[column, 'SCALE']]\n",
    "    \n",
    "    d2 = df.loc[df['NodesxProcessors'] == '321']\n",
    "    d2 = d2.sort_values(by = 'SCALE', ascending = True) \n",
    "    d2 = d2[[column, 'SCALE']]\n",
    "    \n",
    "    d3 = df.loc[df['NodesxProcessors'] == '132']\n",
    "    d3 = d3.sort_values(by = 'SCALE', ascending = True) \n",
    "    d3 = d3[[column, 'SCALE']]\n",
    "\n",
    "    width = 0.2  # the width of the bars\n",
    "\n",
    "    fig, ax = plt.subplots()\n",
    "    rects1 = ax.bar(d['SCALE'] - width, d[column], width, label='32x32')\n",
    "    rects2 = ax.bar(d2['SCALE'], d2[column], width, label='32x1')\n",
    "    rects3 = ax.bar(d3['SCALE'] + width, d3[column], width, label='1x32')\n",
    "\n",
    "    # Add a unit to display on y-axis\n",
    "    s = ' [s]'\n",
    "    ax.set_ylabel(column +s)\n",
    "    ax.set_title('Scores by group and gender')\n",
    "    ax.set_xticks(d['SCALE'])\n",
    "    ax.legend()"
   ]
  },
  {
   "cell_type": "code",
   "execution_count": 171,
   "metadata": {},
   "outputs": [],
   "source": [
    "df = process_output()"
   ]
  },
  {
   "cell_type": "code",
   "execution_count": 172,
   "metadata": {},
   "outputs": [],
   "source": [
    "add_nodxproc(df)"
   ]
  },
  {
   "cell_type": "code",
   "execution_count": 173,
   "metadata": {},
   "outputs": [
    {
     "data": {
      "image/png": "[encoded data removed]",
      "text/plain": [
       "<Figure size 432x288 with 1 Axes>"
      ]
     },
     "metadata": {
      "needs_background": "light"
     },
     "output_type": "display_data"
    }
   ],
   "source": [
    "make_bar(df, 'bfs  median_time')"
   ]
  },
  {
   "cell_type": "code",
   "execution_count": 165,
   "metadata": {},
   "outputs": [
    {
     "data": {
      "text/html": [
       "<div>\n",
       "<style scoped>\n",
       "    .dataframe tbody tr th:only-of-type {\n",
       "        vertical-align: middle;\n",
       "    }\n",
       "\n",
       "    .dataframe tbody tr th {\n",
       "        vertical-align: top;\n",
       "    }\n",
       "\n",
       "    .dataframe thead th {\n",
       "        text-align: right;\n",
       "    }\n",
       "</style>\n",
       "<table border=\"1\" class=\"dataframe\">\n",
       "  <thead>\n",
       "    <tr style=\"text-align: right;\">\n",
       "      <th></th>\n",
       "      <th>SCALE</th>\n",
       "      <th>bfs  median_time</th>\n",
       "    </tr>\n",
       "  </thead>\n",
       "  <tbody>\n",
       "    <tr>\n",
       "      <th>0</th>\n",
       "      <td>26</td>\n",
       "      <td>0.218762</td>\n",
       "    </tr>\n",
       "    <tr>\n",
       "      <th>1</th>\n",
       "      <td>23</td>\n",
       "      <td>0.420755</td>\n",
       "    </tr>\n",
       "    <tr>\n",
       "      <th>2</th>\n",
       "      <td>24</td>\n",
       "      <td>0.830775</td>\n",
       "    </tr>\n",
       "    <tr>\n",
       "      <th>3</th>\n",
       "      <td>25</td>\n",
       "      <td>0.119312</td>\n",
       "    </tr>\n",
       "    <tr>\n",
       "      <th>4</th>\n",
       "      <td>26</td>\n",
       "      <td>3.287570</td>\n",
       "    </tr>\n",
       "    <tr>\n",
       "      <th>5</th>\n",
       "      <td>23</td>\n",
       "      <td>0.266497</td>\n",
       "    </tr>\n",
       "    <tr>\n",
       "      <th>6</th>\n",
       "      <td>26</td>\n",
       "      <td>2.172170</td>\n",
       "    </tr>\n",
       "    <tr>\n",
       "      <th>7</th>\n",
       "      <td>25</td>\n",
       "      <td>1.128340</td>\n",
       "    </tr>\n",
       "    <tr>\n",
       "      <th>8</th>\n",
       "      <td>24</td>\n",
       "      <td>0.522089</td>\n",
       "    </tr>\n",
       "    <tr>\n",
       "      <th>9</th>\n",
       "      <td>24</td>\n",
       "      <td>0.065366</td>\n",
       "    </tr>\n",
       "    <tr>\n",
       "      <th>10</th>\n",
       "      <td>25</td>\n",
       "      <td>1.647820</td>\n",
       "    </tr>\n",
       "    <tr>\n",
       "      <th>11</th>\n",
       "      <td>23</td>\n",
       "      <td>0.036803</td>\n",
       "    </tr>\n",
       "  </tbody>\n",
       "</table>\n",
       "</div>"
      ],
      "text/plain": [
       "    SCALE  bfs  median_time\n",
       "0      26          0.218762\n",
       "1      23          0.420755\n",
       "2      24          0.830775\n",
       "3      25          0.119312\n",
       "4      26          3.287570\n",
       "5      23          0.266497\n",
       "6      26          2.172170\n",
       "7      25          1.128340\n",
       "8      24          0.522089\n",
       "9      24          0.065366\n",
       "10     25          1.647820\n",
       "11     23          0.036803"
      ]
     },
     "execution_count": 165,
     "metadata": {},
     "output_type": "execute_result"
    }
   ],
   "source": []
  },
  {
   "cell_type": "code",
   "execution_count": 149,
   "metadata": {},
   "outputs": [],
   "source": []
  },
  {
   "cell_type": "code",
   "execution_count": 153,
   "metadata": {},
   "outputs": [
    {
     "data": {
      "image/png": "[encoded data removed]",
      "text/plain": [
       "<Figure size 432x288 with 1 Axes>"
      ]
     },
     "metadata": {
      "needs_background": "light"
     },
     "output_type": "display_data"
    }
   ],
   "source": []
  },
  {
   "cell_type": "code",
   "execution_count": 151,
   "metadata": {},
   "outputs": [
    {
     "data": {
      "text/plain": [
       "Index(['SCALE', 'Number of nodes', 'Processes/Node', 'edgefactor', 'NBFS',\n",
       "       'graph_generation', 'num_mpi_processes', 'construction_time',\n",
       "       'bfs  min_time', 'bfs  firstquartile_time', 'bfs  median_time',\n",
       "       'bfs  thirdquartile_time', 'bfs  max_time', 'bfs  mean_time',\n",
       "       'bfs  stddev_time', 'min_nedge', 'firstquartile_nedge', 'median_nedge',\n",
       "       'thirdquartile_nedge', 'max_nedge', 'mean_nedge', 'stddev_nedge',\n",
       "       'bfs  min_TEPS', 'bfs  firstquartile_TEPS', 'bfs  median_TEPS',\n",
       "       'bfs  thirdquartile_TEPS', 'bfs  max_TEPS', 'bfs  harmonic_mean_TEPS',\n",
       "       'bfs  harmonic_stddev_TEPS', 'bfs  min_validate',\n",
       "       'bfs  firstquartile_validate', 'bfs  median_validate',\n",
       "       'bfs  thirdquartile_validate', 'bfs  max_validate',\n",
       "       'bfs  mean_validate', 'bfs  stddev_validate', 'NodesxProcessors'],\n",
       "      dtype='object')"
      ]
     },
     "execution_count": 151,
     "metadata": {},
     "output_type": "execute_result"
    }
   ],
   "source": []
  },
  {
   "cell_type": "code",
   "execution_count": null,
   "metadata": {},
   "outputs": [],
   "source": []
  },
  {
   "cell_type": "code",
   "execution_count": null,
   "metadata": {},
   "outputs": [],
   "source": []
  },
  {
   "cell_type": "code",
   "execution_count": null,
   "metadata": {},
   "outputs": [],
   "source": []
  },
  {
   "cell_type": "code",
   "execution_count": null,
   "metadata": {},
   "outputs": [],
   "source": []
  }
 ],
 "metadata": {
  "kernelspec": {
   "display_name": "Python 3",
   "language": "python",
   "name": "python3"
  },
  "language_info": {
   "codemirror_mode": {
    "name": "ipython",
    "version": 3
   },
   "file_extension": ".py",
   "mimetype": "text/x-python",
   "name": "python",
   "nbconvert_exporter": "python",
   "pygments_lexer": "ipython3",
   "version": "3.6.9"
  }
 },
 "nbformat": 4,
 "nbformat_minor": 4
}
